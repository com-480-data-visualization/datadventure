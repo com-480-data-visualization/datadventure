{
 "cells": [
  {
   "cell_type": "code",
   "execution_count": 9,
   "id": "06e3b227",
   "metadata": {},
   "outputs": [
    {
     "name": "stderr",
     "output_type": "stream",
     "text": [
      "/var/folders/q9/0xq_2r1503z58vb1xx__4r5m0000gn/T/ipykernel_8752/3813960080.py:5: DtypeWarning: Columns (4) have mixed types. Specify dtype option on import or set low_memory=False.\n",
      "  df = pd.read_csv(\"combined_features_disorder.csv\")\n",
      "/var/folders/q9/0xq_2r1503z58vb1xx__4r5m0000gn/T/ipykernel_8752/3813960080.py:8: SettingWithCopyWarning: \n",
      "A value is trying to be set on a copy of a slice from a DataFrame.\n",
      "Try using .loc[row_indexer,col_indexer] = value instead\n",
      "\n",
      "See the caveats in the documentation: https://pandas.pydata.org/pandas-docs/stable/user_guide/indexing.html#returning-a-view-versus-a-copy\n",
      "  df_anxiety[\"disorder\"] = df_anxiety[\"disorder\"].apply(lambda x: 1 if x == \"anxiety\" else 0)\n"
     ]
    }
   ],
   "source": [
    "import pandas as pd\n",
    "from sklearn.linear_model import LogisticRegression\n",
    "\n",
    "# Anxiety model\n",
    "df = pd.read_csv(\"combined_features_disorder.csv\")\n",
    "\n",
    "df_anxiety = df[(df[\"disorder\"] == \"anxiety\") | (df[\"disorder\"] == \"control\")]\n",
    "df_anxiety[\"disorder\"] = df_anxiety[\"disorder\"].apply(lambda x: 1 if x == \"anxiety\" else 0)\n",
    "\n",
    "X = df_anxiety[[\"danceability\", \"energy\", \"key\", \"loudness\", \"speechiness\", \"tempo\"]]\n",
    "y = df_anxiety[\"disorder\"] \n",
    "\n",
    "model = LogisticRegression()\n",
    "model.fit(X, y)\n",
    "\n",
    "import json\n",
    "with open(\"model_anxiety.json\", \"w\") as f:\n",
    "    json.dump({\n",
    "        \"coef\": model.coef_[0].tolist(),\n",
    "        \"intercept\": model.intercept_[0]\n",
    "    }, f)"
   ]
  },
  {
   "cell_type": "code",
   "execution_count": 10,
   "id": "48be957c",
   "metadata": {},
   "outputs": [
    {
     "name": "stderr",
     "output_type": "stream",
     "text": [
      "/var/folders/q9/0xq_2r1503z58vb1xx__4r5m0000gn/T/ipykernel_8752/440217495.py:3: SettingWithCopyWarning: \n",
      "A value is trying to be set on a copy of a slice from a DataFrame.\n",
      "Try using .loc[row_indexer,col_indexer] = value instead\n",
      "\n",
      "See the caveats in the documentation: https://pandas.pydata.org/pandas-docs/stable/user_guide/indexing.html#returning-a-view-versus-a-copy\n",
      "  df_depression[\"disorder\"] = df_depression[\"disorder\"].apply(lambda x: 1 if x == \"depression\" else 0)\n"
     ]
    }
   ],
   "source": [
    "# Depression model\n",
    "df_depression = df[(df[\"disorder\"] == \"depression\") | (df[\"disorder\"] == \"control\")]\n",
    "df_depression[\"disorder\"] = df_depression[\"disorder\"].apply(lambda x: 1 if x == \"depression\" else 0)\n",
    "\n",
    "X = df_depression[[\"danceability\", \"energy\", \"key\", \"loudness\", \"speechiness\", \"tempo\"]]\n",
    "y = df_depression[\"disorder\"] \n",
    "\n",
    "model = LogisticRegression()\n",
    "model.fit(X, y)\n",
    "\n",
    "import json\n",
    "with open(\"model_depression.json\", \"w\") as f:\n",
    "    json.dump({\n",
    "        \"coef\": model.coef_[0].tolist(),\n",
    "        \"intercept\": model.intercept_[0]\n",
    "    }, f)"
   ]
  },
  {
   "cell_type": "code",
   "execution_count": null,
   "id": "1cf043ac",
   "metadata": {},
   "outputs": [],
   "source": []
  }
 ],
 "metadata": {
  "kernelspec": {
   "display_name": "ada",
   "language": "python",
   "name": "python3"
  },
  "language_info": {
   "codemirror_mode": {
    "name": "ipython",
    "version": 3
   },
   "file_extension": ".py",
   "mimetype": "text/x-python",
   "name": "python",
   "nbconvert_exporter": "python",
   "pygments_lexer": "ipython3",
   "version": "3.11.8"
  }
 },
 "nbformat": 4,
 "nbformat_minor": 5
}
